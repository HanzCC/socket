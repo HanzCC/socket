{
 "cells": [
  {
   "cell_type": "code",
   "execution_count": 1,
   "metadata": {},
   "outputs": [],
   "source": [
    "import sys"
   ]
  },
  {
   "cell_type": "code",
   "execution_count": 11,
   "metadata": {},
   "outputs": [
    {
     "data": {
      "text/plain": [
       "['C:\\\\Users\\\\hanso\\\\AppData\\\\Local\\\\Packages\\\\PythonSoftwareFoundation.Python.3.10_qbz5n2kfra8p0\\\\LocalCache\\\\local-packages\\\\Python310\\\\site-packages\\\\ipykernel_launcher.py',\n",
       " '--ip=127.0.0.1',\n",
       " '--stdin=9003',\n",
       " '--control=9001',\n",
       " '--hb=9000',\n",
       " '--Session.signature_scheme=\"hmac-sha256\"',\n",
       " '--Session.key=b\"814946fe-d31f-4804-9c09-8e5e76ca1ff3\"',\n",
       " '--shell=9002',\n",
       " '--transport=\"tcp\"',\n",
       " '--iopub=9004',\n",
       " '--f=c:\\\\Users\\\\hanso\\\\AppData\\\\Roaming\\\\jupyter\\\\runtime\\\\kernel-v2-122245NMHeV7hznqF.json']"
      ]
     },
     "execution_count": 11,
     "metadata": {},
     "output_type": "execute_result"
    }
   ],
   "source": [
    "sys.argv"
   ]
  },
  {
   "cell_type": "code",
   "execution_count": 10,
   "metadata": {},
   "outputs": [
    {
     "ename": "ValueError",
     "evalue": "invalid literal for int() with base 10: '--stdin=9003'",
     "output_type": "error",
     "traceback": [
      "\u001b[1;31m---------------------------------------------------------------------------\u001b[0m",
      "\u001b[1;31mValueError\u001b[0m                                Traceback (most recent call last)",
      "\u001b[1;32mc:\\Users\\hanso\\OneDrive\\Documents\\Programming_Files\\Web_development_study\\hh.ipynb Cell 2\u001b[0m in \u001b[0;36m1\n\u001b[1;32m----> <a href='vscode-notebook-cell:/c%3A/Users/hanso/OneDrive/Documents/Programming_Files/Web_development_study/hh.ipynb#W1sZmlsZQ%3D%3D?line=0'>1</a>\u001b[0m host, port \u001b[39m=\u001b[39m sys\u001b[39m.\u001b[39margv[\u001b[39m1\u001b[39m], \u001b[39mint\u001b[39;49m(sys\u001b[39m.\u001b[39;49margv[\u001b[39m2\u001b[39;49m])\n",
      "\u001b[1;31mValueError\u001b[0m: invalid literal for int() with base 10: '--stdin=9003'"
     ]
    }
   ],
   "source": [
    "host, port = sys.argv[1], int(sys.argv[2])"
   ]
  },
  {
   "cell_type": "code",
   "execution_count": 9,
   "metadata": {},
   "outputs": [
    {
     "ename": "ValueError",
     "evalue": "invalid literal for int() with base 10: '--stdin=9003'",
     "output_type": "error",
     "traceback": [
      "\u001b[1;31m---------------------------------------------------------------------------\u001b[0m",
      "\u001b[1;31mValueError\u001b[0m                                Traceback (most recent call last)",
      "\u001b[1;32mc:\\Users\\hanso\\OneDrive\\Documents\\Programming_Files\\Web_development_study\\hh.ipynb Cell 3\u001b[0m in \u001b[0;36m1\n\u001b[1;32m----> <a href='vscode-notebook-cell:/c%3A/Users/hanso/OneDrive/Documents/Programming_Files/Web_development_study/hh.ipynb#W2sZmlsZQ%3D%3D?line=0'>1</a>\u001b[0m \u001b[39mint\u001b[39;49m(sys\u001b[39m.\u001b[39;49margv[\u001b[39m2\u001b[39;49m])\n",
      "\u001b[1;31mValueError\u001b[0m: invalid literal for int() with base 10: '--stdin=9003'"
     ]
    }
   ],
   "source": [
    "int(sys.argv[2])"
   ]
  },
  {
   "cell_type": "code",
   "execution_count": 12,
   "metadata": {},
   "outputs": [],
   "source": [
    "import socket"
   ]
  },
  {
   "cell_type": "code",
   "execution_count": 13,
   "metadata": {},
   "outputs": [
    {
     "data": {
      "text/plain": [
       "'192.168.0.8'"
      ]
     },
     "execution_count": 13,
     "metadata": {},
     "output_type": "execute_result"
    }
   ],
   "source": [
    "socket.gethostbyname(socket.gethostname())"
   ]
  },
  {
   "cell_type": "code",
   "execution_count": 14,
   "metadata": {},
   "outputs": [
    {
     "data": {
      "text/plain": [
       "'LAPTOP-5FCTCRIS'"
      ]
     },
     "execution_count": 14,
     "metadata": {},
     "output_type": "execute_result"
    }
   ],
   "source": [
    "socket.gethostname()"
   ]
  },
  {
   "cell_type": "code",
   "execution_count": 21,
   "metadata": {},
   "outputs": [
    {
     "name": "stdout",
     "output_type": "stream",
     "text": [
      " Left Alignment Text\n"
     ]
    }
   ],
   "source": [
    "text = \"Left Alignment Text\"\n",
    "print(f\"{text:>20}\")"
   ]
  },
  {
   "cell_type": "code",
   "execution_count": 1,
   "metadata": {},
   "outputs": [
    {
     "data": {
      "text/plain": [
       "namespace(X='data1', y='data2')"
      ]
     },
     "execution_count": 1,
     "metadata": {},
     "output_type": "execute_result"
    }
   ],
   "source": [
    "from types import SimpleNamespace\n",
    "\n",
    "sim = SimpleNamespace(X='data1', y='data2')\n",
    "sim"
   ]
  },
  {
   "cell_type": "code",
   "execution_count": 5,
   "metadata": {},
   "outputs": [],
   "source": [
    "sim.z = 'data3'"
   ]
  },
  {
   "cell_type": "code",
   "execution_count": 9,
   "metadata": {},
   "outputs": [
    {
     "data": {
      "text/plain": [
       "'data1data2'"
      ]
     },
     "execution_count": 9,
     "metadata": {},
     "output_type": "execute_result"
    }
   ],
   "source": [
    "sim.X + sim.y"
   ]
  }
 ],
 "metadata": {
  "kernelspec": {
   "display_name": "Python 3",
   "language": "python",
   "name": "python3"
  },
  "language_info": {
   "codemirror_mode": {
    "name": "ipython",
    "version": 3
   },
   "file_extension": ".py",
   "mimetype": "text/x-python",
   "name": "python",
   "nbconvert_exporter": "python",
   "pygments_lexer": "ipython3",
   "version": "3.10.11"
  },
  "orig_nbformat": 4
 },
 "nbformat": 4,
 "nbformat_minor": 2
}
